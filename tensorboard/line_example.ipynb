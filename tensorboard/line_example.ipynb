{
 "cells": [
  {
   "cell_type": "code",
   "execution_count": 2,
   "metadata": {},
   "outputs": [],
   "source": [
    "import tensorflow as tf\n",
    "\n",
    "X = tf.placeholder(tf.float32, name=\"X_placeholder\")\n",
    "Y = tf.placeholder(tf.float32, name=\"Y_placeholder\")\n",
    "\n",
    "add = tf.add(X, Y)\n",
    "mul = tf.mul(X, Y)\n",
    "\n",
    "# step 1: node 선택\n",
    "add_hist = tf.scalar_summary(\"add_scalar\", add)\n",
    "mul_hist = tf.scalar_summary(\"mul_scalar\", mul)\n",
    "\n",
    "# step 2: summary 통합. 두 개의 코드 모두 동작.\n",
    "merged = tf.merge_all_summaries()\n",
    "# merged = tf.merge_summary([add_hist, mul_hist])\n",
    "\n",
    "with tf.Session() as sess:\n",
    "    init = tf.initialize_all_variables()\n",
    "    sess.run(init)\n",
    "\n",
    "    # step 3: writer 생성\n",
    "    writer = tf.train.SummaryWriter(\"./board/sample_3\", sess.graph)\n",
    "\n",
    "    for step in range(100):\n",
    "        # step 4: 노드 추가\n",
    "        summary = sess.run(merged, feed_dict={X: step * 1.0, Y: 2.0})\n",
    "        writer.add_summary(summary, step)\n",
    "\n",
    "# step 5: 콘솔에서 명령 실행\n",
    "# tensorboard --logdir=./board/sample_3"
   ]
  },
  {
   "cell_type": "code",
   "execution_count": null,
   "metadata": {
    "collapsed": true
   },
   "outputs": [],
   "source": []
  }
 ],
 "metadata": {
  "kernelspec": {
   "display_name": "Python 2",
   "language": "python",
   "name": "python2"
  },
  "language_info": {
   "codemirror_mode": {
    "name": "ipython",
    "version": 2
   },
   "file_extension": ".py",
   "mimetype": "text/x-python",
   "name": "python",
   "nbconvert_exporter": "python",
   "pygments_lexer": "ipython2",
   "version": "2.7.13"
  }
 },
 "nbformat": 4,
 "nbformat_minor": 2
}
