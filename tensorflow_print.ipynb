{
 "cells": [
  {
   "cell_type": "code",
   "execution_count": 2,
   "metadata": {},
   "outputs": [],
   "source": [
    "import tensorflow as tf\n",
    "from function import showOperation as showOp"
   ]
  },
  {
   "cell_type": "code",
   "execution_count": 3,
   "metadata": {},
   "outputs": [
    {
     "name": "stdout",
     "output_type": "stream",
     "text": [
      "[[ 0.  0.  0.]\n",
      " [ 0.  0.  0.]]\n",
      "[[1 1 1]\n",
      " [1 1 1]]\n",
      "[[ 0.  0.  0.]\n",
      " [ 0.  0.  0.]]\n",
      "[[2 2 2]\n",
      " [2 2 2]]\n",
      "[[ 2.  2.  2.]\n",
      " [ 2.  2.  2.]]\n"
     ]
    }
   ],
   "source": [
    "showOp(tf.zeros([2,3]))                     # [[ 0.  0.  0.] [ 0.  0.  0.]]\n",
    "showOp(tf.ones([2,3], tf.int32))            # [[1 1 1] [1 1 1]]\n",
    "showOp(tf.zeros_like(tf.ones([2,3])))       # [[ 0.  0.  0.] [ 0.  0.  0.]]\n",
    "showOp(tf.fill([2,3], 2))                   # [[2 2 2] [2 2 2]]\n",
    "showOp(tf.fill([2,3], 2.0))                 # [[ 2.  2.  2.] [ 2.  2.  2.]]"
   ]
  },
  {
   "cell_type": "code",
   "execution_count": 7,
   "metadata": {},
   "outputs": [
    {
     "name": "stdout",
     "output_type": "stream",
     "text": [
      "[ 0.71717125]\n",
      "[ 0.64725435]\n",
      "[ 0.44438657]\n",
      "[ 0.93502581]\n",
      "[ 0.67023867]\n",
      "[ 0.53889161]\n",
      "[ 0.50460052]\n",
      "[ 0.01361922]\n",
      "[ 0.93308592]\n",
      "[ 0.92811656]\n",
      "[ 0.33393142]\n",
      "[ 0.22383317]\n",
      "[ 0.28904253]\n",
      "[ 0.45345703]\n",
      "[ 0.95190728]\n",
      "[ 0.71492934]\n",
      "[ 0.91338205]\n",
      "[ 0.50887078]\n",
      "[ 0.75714409]\n",
      "[ 0.14750803]\n",
      "[ 0.52661085]\n",
      "[ 0.62576956]\n",
      "[ 0.86462355]\n",
      "[ 0.39519152]\n",
      "[-0.04515807]\n",
      "[ 0.44264939]\n",
      "[ 0.6493144]\n",
      "[ 0.93357849]\n",
      "[ 0.41148707]\n",
      "[ 0.5977971]\n",
      "[ 0.51787484]\n",
      "[-0.08949516]\n",
      "[ 0.70773751]\n",
      "[ 0.34351665]\n",
      "[-0.0769738]\n",
      "[ 0.63011742]\n",
      "[ 0.78084481]\n",
      "[ 0.52187389]\n",
      "[-0.08720051]\n",
      "[ 0.02853633]\n",
      "[ 0.82458961]\n",
      "[ 0.99282801]\n",
      "[ 0.3274368]\n",
      "[ 0.15307581]\n",
      "[ 0.09127978]\n",
      "[ 0.15510127]\n",
      "[ 0.76495653]\n",
      "[ 0.0467949]\n",
      "[ 0.11473518]\n",
      "[ 0.31734595]\n"
     ]
    }
   ],
   "source": [
    "for i in xrange(50) :\n",
    "    showOp(tf.random_uniform([1], -0.1, 1.0))"
   ]
  },
  {
   "cell_type": "code",
   "execution_count": 8,
   "metadata": {},
   "outputs": [
    {
     "name": "stdout",
     "output_type": "stream",
     "text": [
      "[ 0.]\n"
     ]
    }
   ],
   "source": [
    "showOp(tf.zeros([1]))"
   ]
  },
  {
   "cell_type": "code",
   "execution_count": null,
   "metadata": {
    "collapsed": true
   },
   "outputs": [],
   "source": []
  }
 ],
 "metadata": {
  "kernelspec": {
   "display_name": "Python 2",
   "language": "python",
   "name": "python2"
  },
  "language_info": {
   "codemirror_mode": {
    "name": "ipython",
    "version": 2
   },
   "file_extension": ".py",
   "mimetype": "text/x-python",
   "name": "python",
   "nbconvert_exporter": "python",
   "pygments_lexer": "ipython2",
   "version": "2.7.13"
  }
 },
 "nbformat": 4,
 "nbformat_minor": 2
}
